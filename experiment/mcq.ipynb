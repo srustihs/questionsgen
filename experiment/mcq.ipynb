{
 "cells": [
  {
   "cell_type": "code",
   "execution_count": 14,
   "metadata": {},
   "outputs": [],
   "source": [
    "import os\n",
    "import json\n",
    "import pandas as pd\n",
    "import traceback"
   ]
  },
  {
   "cell_type": "code",
   "execution_count": 17,
   "metadata": {},
   "outputs": [
    {
     "name": "stdout",
     "output_type": "stream",
     "text": [
      "Requirement already satisfied: langchain in c:\\anaconda3\\envs\\questionsgen\\lib\\site-packages\\langchain-0.2.1-py3.9.egg (0.2.1)\n",
      "Requirement already satisfied: PyYAML>=5.3 in c:\\anaconda3\\envs\\questionsgen\\lib\\site-packages\\pyyaml-6.0.1-py3.9-win-amd64.egg (from langchain) (6.0.1)\n",
      "Requirement already satisfied: SQLAlchemy<3,>=1.4 in c:\\anaconda3\\envs\\questionsgen\\lib\\site-packages\\sqlalchemy-2.0.30-py3.9.egg (from langchain) (2.0.30)\n",
      "Requirement already satisfied: aiohttp<4.0.0,>=3.8.3 in c:\\anaconda3\\envs\\questionsgen\\lib\\site-packages\\aiohttp-3.9.5-py3.9-win-amd64.egg (from langchain) (3.9.5)\n",
      "Requirement already satisfied: async-timeout<5.0.0,>=4.0.0 in c:\\anaconda3\\envs\\questionsgen\\lib\\site-packages\\async_timeout-4.0.3-py3.9.egg (from langchain) (4.0.3)\n",
      "Requirement already satisfied: langchain-core<0.3.0,>=0.2.0 in c:\\anaconda3\\envs\\questionsgen\\lib\\site-packages\\langchain_core-0.2.2rc1-py3.9.egg (from langchain) (0.2.2rc1)\n",
      "Requirement already satisfied: langchain-text-splitters<0.3.0,>=0.2.0 in c:\\anaconda3\\envs\\questionsgen\\lib\\site-packages\\langchain_text_splitters-0.2.0-py3.9.egg (from langchain) (0.2.0)\n",
      "Requirement already satisfied: langsmith<0.2.0,>=0.1.17 in c:\\anaconda3\\envs\\questionsgen\\lib\\site-packages\\langsmith-0.1.63-py3.9.egg (from langchain) (0.1.63)\n",
      "Requirement already satisfied: numpy<2,>=1 in c:\\anaconda3\\envs\\questionsgen\\lib\\site-packages\\numpy-1.26.4-py3.9-win-amd64.egg (from langchain) (1.26.4)\n",
      "Requirement already satisfied: pydantic<3,>=1 in c:\\anaconda3\\envs\\questionsgen\\lib\\site-packages\\pydantic-2.7.1-py3.9.egg (from langchain) (2.7.1)\n",
      "Requirement already satisfied: requests<3,>=2 in c:\\anaconda3\\envs\\questionsgen\\lib\\site-packages\\requests-2.32.2-py3.9.egg (from langchain) (2.32.2)\n",
      "Requirement already satisfied: tenacity<9.0.0,>=8.1.0 in c:\\anaconda3\\envs\\questionsgen\\lib\\site-packages\\tenacity-8.3.0-py3.9.egg (from langchain) (8.3.0)\n",
      "Requirement already satisfied: aiosignal>=1.1.2 in c:\\anaconda3\\envs\\questionsgen\\lib\\site-packages\\aiosignal-1.3.1-py3.9.egg (from aiohttp<4.0.0,>=3.8.3->langchain) (1.3.1)\n",
      "Requirement already satisfied: attrs>=17.3.0 in c:\\anaconda3\\envs\\questionsgen\\lib\\site-packages\\attrs-23.2.0-py3.9.egg (from aiohttp<4.0.0,>=3.8.3->langchain) (23.2.0)\n",
      "Requirement already satisfied: frozenlist>=1.1.1 in c:\\anaconda3\\envs\\questionsgen\\lib\\site-packages\\frozenlist-1.4.1-py3.9.egg (from aiohttp<4.0.0,>=3.8.3->langchain) (1.4.1)\n",
      "Requirement already satisfied: multidict<7.0,>=4.5 in c:\\anaconda3\\envs\\questionsgen\\lib\\site-packages\\multidict-6.0.5-py3.9.egg (from aiohttp<4.0.0,>=3.8.3->langchain) (6.0.5)\n",
      "Requirement already satisfied: yarl<2.0,>=1.0 in c:\\anaconda3\\envs\\questionsgen\\lib\\site-packages\\yarl-1.9.4-py3.9-win-amd64.egg (from aiohttp<4.0.0,>=3.8.3->langchain) (1.9.4)\n",
      "Requirement already satisfied: jsonpatch<2.0,>=1.33 in c:\\anaconda3\\envs\\questionsgen\\lib\\site-packages\\jsonpatch-1.33-py3.9.egg (from langchain-core<0.3.0,>=0.2.0->langchain) (1.33)\n",
      "Requirement already satisfied: packaging<24.0,>=23.2 in c:\\anaconda3\\envs\\questionsgen\\lib\\site-packages (from langchain-core<0.3.0,>=0.2.0->langchain) (23.2)\n",
      "Requirement already satisfied: orjson<4.0.0,>=3.9.14 in c:\\anaconda3\\envs\\questionsgen\\lib\\site-packages\\orjson-3.10.3-py3.9-win-amd64.egg (from langsmith<0.2.0,>=0.1.17->langchain) (3.10.3)\n",
      "Requirement already satisfied: annotated-types>=0.4.0 in c:\\anaconda3\\envs\\questionsgen\\lib\\site-packages\\annotated_types-0.7.0-py3.9.egg (from pydantic<3,>=1->langchain) (0.7.0)\n",
      "Requirement already satisfied: pydantic-core==2.18.2 in c:\\anaconda3\\envs\\questionsgen\\lib\\site-packages\\pydantic_core-2.18.2-py3.9-win-amd64.egg (from pydantic<3,>=1->langchain) (2.18.2)\n",
      "Requirement already satisfied: typing-extensions>=4.6.1 in c:\\anaconda3\\envs\\questionsgen\\lib\\site-packages (from pydantic<3,>=1->langchain) (4.11.0)\n",
      "Requirement already satisfied: charset-normalizer<4,>=2 in c:\\anaconda3\\envs\\questionsgen\\lib\\site-packages\\charset_normalizer-3.3.2-py3.9-win-amd64.egg (from requests<3,>=2->langchain) (3.3.2)\n",
      "Requirement already satisfied: idna<4,>=2.5 in c:\\anaconda3\\envs\\questionsgen\\lib\\site-packages\\idna-3.7-py3.9.egg (from requests<3,>=2->langchain) (3.7)\n",
      "Requirement already satisfied: urllib3<3,>=1.21.1 in c:\\anaconda3\\envs\\questionsgen\\lib\\site-packages\\urllib3-2.2.1-py3.9.egg (from requests<3,>=2->langchain) (2.2.1)\n",
      "Requirement already satisfied: certifi>=2017.4.17 in c:\\anaconda3\\envs\\questionsgen\\lib\\site-packages\\certifi-2024.2.2-py3.9.egg (from requests<3,>=2->langchain) (2024.2.2)\n",
      "Requirement already satisfied: greenlet!=0.4.17 in c:\\anaconda3\\envs\\questionsgen\\lib\\site-packages\\greenlet-3.0.3-py3.9-win-amd64.egg (from SQLAlchemy<3,>=1.4->langchain) (3.0.3)\n",
      "Requirement already satisfied: jsonpointer>=1.9 in c:\\anaconda3\\envs\\questionsgen\\lib\\site-packages\\jsonpointer-2.4-py3.9.egg (from jsonpatch<2.0,>=1.33->langchain-core<0.3.0,>=0.2.0->langchain) (2.4)\n"
     ]
    }
   ],
   "source": [
    "! pip install --upgrade langchain"
   ]
  },
  {
   "cell_type": "code",
   "execution_count": 19,
   "metadata": {},
   "outputs": [
    {
     "name": "stdout",
     "output_type": "stream",
     "text": [
      "Found submodule: _api (is a package: True)\n",
      "Found submodule: adapters (is a package: True)\n",
      "Found submodule: agents (is a package: True)\n",
      "Found submodule: base_language (is a package: False)\n",
      "Found submodule: cache (is a package: False)\n",
      "Found submodule: callbacks (is a package: True)\n",
      "Found submodule: chains (is a package: True)\n",
      "Found submodule: chat_loaders (is a package: True)\n",
      "Found submodule: chat_models (is a package: True)\n",
      "Found submodule: docstore (is a package: True)\n",
      "Found submodule: document_loaders (is a package: True)\n",
      "Found submodule: document_transformers (is a package: True)\n",
      "Found submodule: embeddings (is a package: True)\n",
      "Found submodule: env (is a package: False)\n",
      "Found submodule: evaluation (is a package: True)\n",
      "Found submodule: example_generator (is a package: False)\n",
      "Found submodule: formatting (is a package: False)\n",
      "Found submodule: globals (is a package: True)\n",
      "Found submodule: graphs (is a package: True)\n",
      "Found submodule: hub (is a package: False)\n",
      "Found submodule: indexes (is a package: True)\n",
      "Found submodule: input (is a package: False)\n",
      "Found submodule: llms (is a package: True)\n",
      "Found submodule: load (is a package: True)\n",
      "Found submodule: memory (is a package: True)\n",
      "Found submodule: model_laboratory (is a package: False)\n",
      "Found submodule: output_parsers (is a package: True)\n",
      "Found submodule: prompts (is a package: True)\n",
      "Found submodule: pydantic_v1 (is a package: True)\n",
      "Found submodule: python (is a package: False)\n",
      "Found submodule: requests (is a package: False)\n",
      "Found submodule: retrievers (is a package: True)\n",
      "Found submodule: runnables (is a package: True)\n",
      "Found submodule: schema (is a package: True)\n",
      "Found submodule: serpapi (is a package: False)\n",
      "Found submodule: smith (is a package: True)\n",
      "Found submodule: sql_database (is a package: False)\n",
      "Found submodule: storage (is a package: True)\n",
      "Found submodule: text_splitter (is a package: False)\n",
      "Found submodule: tools (is a package: True)\n",
      "Found submodule: utilities (is a package: True)\n",
      "Found submodule: utils (is a package: True)\n",
      "Found submodule: vectorstores (is a package: True)\n"
     ]
    }
   ],
   "source": [
    "import langchain\n",
    "import pkgutil\n",
    "\n",
    "# List all submodules in langchain\n",
    "package = langchain\n",
    "for importer, modname, ispkg in pkgutil.iter_modules(package.__path__):\n",
    "    print(f\"Found submodule: {modname} (is a package: {ispkg})\")\n"
   ]
  },
  {
   "cell_type": "code",
   "execution_count": 20,
   "metadata": {},
   "outputs": [
    {
     "name": "stdout",
     "output_type": "stream",
     "text": [
      "['LangChainDeprecationWarning', '__all__', '__builtins__', '__cached__', '__doc__', '__file__', '__getattr__', '__loader__', '__name__', '__package__', '__path__', '__spec__', 'is_interactive_env', 'warnings']\n"
     ]
    }
   ],
   "source": [
    "import langchain.chat_models\n",
    "\n",
    "print(dir(langchain.chat_models))\n"
   ]
  },
  {
   "cell_type": "code",
   "execution_count": 21,
   "metadata": {},
   "outputs": [
    {
     "name": "stdout",
     "output_type": "stream",
     "text": [
      "ChatOpenAI is part of __all__\n"
     ]
    }
   ],
   "source": [
    "import langchain.chat_models\n",
    "\n",
    "# Check if ChatOpenAI is in __all__\n",
    "if 'ChatOpenAI' in langchain.chat_models.__all__:\n",
    "    print(\"ChatOpenAI is part of __all__\")\n",
    "else:\n",
    "    print(\"ChatOpenAI is not part of __all__\")\n",
    "\n",
    "# Inspect source code or documentation if needed\n"
   ]
  },
  {
   "cell_type": "code",
   "execution_count": 23,
   "metadata": {},
   "outputs": [
    {
     "ename": "ModuleNotFoundError",
     "evalue": "No module named 'langchain_community'",
     "output_type": "error",
     "traceback": [
      "\u001b[1;31m---------------------------------------------------------------------------\u001b[0m",
      "\u001b[1;31mModuleNotFoundError\u001b[0m                       Traceback (most recent call last)",
      "\u001b[1;32mc:\\Users\\srusti HS\\questionsgen\\experiment\\mcq.ipynb Cell 7\u001b[0m line \u001b[0;36m1\n\u001b[1;32m----> <a href='vscode-notebook-cell:/c%3A/Users/srusti%20HS/questionsgen/experiment/mcq.ipynb#W6sZmlsZQ%3D%3D?line=0'>1</a>\u001b[0m \u001b[39mfrom\u001b[39;00m \u001b[39mlangchain_community\u001b[39;00m\u001b[39m.\u001b[39;00m\u001b[39mchat_models\u001b[39;00m \u001b[39mimport\u001b[39;00m ChatOpenAI\n\u001b[0;32m      <a href='vscode-notebook-cell:/c%3A/Users/srusti%20HS/questionsgen/experiment/mcq.ipynb#W6sZmlsZQ%3D%3D?line=2'>3</a>\u001b[0m \u001b[39m# Example usage\u001b[39;00m\n\u001b[0;32m      <a href='vscode-notebook-cell:/c%3A/Users/srusti%20HS/questionsgen/experiment/mcq.ipynb#W6sZmlsZQ%3D%3D?line=3'>4</a>\u001b[0m chat \u001b[39m=\u001b[39m ChatOpenAI(api_key\u001b[39m=\u001b[39m\u001b[39m\"\u001b[39m\u001b[39myour_api_key\u001b[39m\u001b[39m\"\u001b[39m)\n",
      "\u001b[1;31mModuleNotFoundError\u001b[0m: No module named 'langchain_community'"
     ]
    }
   ],
   "source": [
    "from langchain_community.chat_models import ChatOpenAI\n",
    "\n"
   ]
  },
  {
   "cell_type": "code",
   "execution_count": 24,
   "metadata": {},
   "outputs": [
    {
     "ename": "ModuleNotFoundError",
     "evalue": "No module named 'langchain_community'",
     "output_type": "error",
     "traceback": [
      "\u001b[1;31m---------------------------------------------------------------------------\u001b[0m",
      "\u001b[1;31mModuleNotFoundError\u001b[0m                       Traceback (most recent call last)",
      "\u001b[1;32mc:\\Users\\srusti HS\\questionsgen\\experiment\\mcq.ipynb Cell 8\u001b[0m line \u001b[0;36m1\n\u001b[1;32m----> <a href='vscode-notebook-cell:/c%3A/Users/srusti%20HS/questionsgen/experiment/mcq.ipynb#X10sZmlsZQ%3D%3D?line=0'>1</a>\u001b[0m \u001b[39mfrom\u001b[39;00m \u001b[39mlangchain\u001b[39;00m\u001b[39m.\u001b[39;00m\u001b[39mchat_models\u001b[39;00m \u001b[39mimport\u001b[39;00m ChatOpenAI\n",
      "File \u001b[1;32mc:\\anaconda3\\envs\\questionsgen\\lib\\site-packages\\langchain-0.2.1-py3.9.egg\\langchain\\chat_models\\__init__.py:27\u001b[0m, in \u001b[0;36m__getattr__\u001b[1;34m(name)\u001b[0m\n\u001b[0;32m     26\u001b[0m \u001b[39mdef\u001b[39;00m \u001b[39m__getattr__\u001b[39m(name: \u001b[39mstr\u001b[39m) \u001b[39m-\u001b[39m\u001b[39m>\u001b[39m \u001b[39mNone\u001b[39;00m:\n\u001b[1;32m---> 27\u001b[0m     \u001b[39mfrom\u001b[39;00m \u001b[39mlangchain_community\u001b[39;00m \u001b[39mimport\u001b[39;00m chat_models\n\u001b[0;32m     29\u001b[0m     \u001b[39m# If not in interactive env, raise warning.\u001b[39;00m\n\u001b[0;32m     30\u001b[0m     \u001b[39mif\u001b[39;00m \u001b[39mnot\u001b[39;00m is_interactive_env():\n",
      "\u001b[1;31mModuleNotFoundError\u001b[0m: No module named 'langchain_community'"
     ]
    }
   ],
   "source": [
    "from langchain.chat_models import ChatOpenAI\n"
   ]
  },
  {
   "cell_type": "code",
   "execution_count": 25,
   "metadata": {},
   "outputs": [
    {
     "name": "stdout",
     "output_type": "stream",
     "text": [
      "Collecting langchain_openai\n",
      "  Using cached langchain_openai-0.1.7-py3-none-any.whl.metadata (2.5 kB)\n",
      "Requirement already satisfied: langchain-core<0.3,>=0.1.46 in c:\\anaconda3\\envs\\questionsgen\\lib\\site-packages\\langchain_core-0.2.2rc1-py3.9.egg (from langchain_openai) (0.2.2rc1)\n",
      "Requirement already satisfied: openai<2.0.0,>=1.24.0 in c:\\anaconda3\\envs\\questionsgen\\lib\\site-packages\\openai-1.30.3-py3.9.egg (from langchain_openai) (1.30.3)\n",
      "Collecting tiktoken<1,>=0.7 (from langchain_openai)\n",
      "  Using cached tiktoken-0.7.0-cp39-cp39-win_amd64.whl.metadata (6.8 kB)\n",
      "Requirement already satisfied: PyYAML>=5.3 in c:\\anaconda3\\envs\\questionsgen\\lib\\site-packages\\pyyaml-6.0.1-py3.9-win-amd64.egg (from langchain-core<0.3,>=0.1.46->langchain_openai) (6.0.1)\n",
      "Requirement already satisfied: jsonpatch<2.0,>=1.33 in c:\\anaconda3\\envs\\questionsgen\\lib\\site-packages\\jsonpatch-1.33-py3.9.egg (from langchain-core<0.3,>=0.1.46->langchain_openai) (1.33)\n",
      "Requirement already satisfied: langsmith<0.2.0,>=0.1.0 in c:\\anaconda3\\envs\\questionsgen\\lib\\site-packages\\langsmith-0.1.63-py3.9.egg (from langchain-core<0.3,>=0.1.46->langchain_openai) (0.1.63)\n",
      "Requirement already satisfied: packaging<24.0,>=23.2 in c:\\anaconda3\\envs\\questionsgen\\lib\\site-packages (from langchain-core<0.3,>=0.1.46->langchain_openai) (23.2)\n",
      "Requirement already satisfied: pydantic<3,>=1 in c:\\anaconda3\\envs\\questionsgen\\lib\\site-packages\\pydantic-2.7.1-py3.9.egg (from langchain-core<0.3,>=0.1.46->langchain_openai) (2.7.1)\n",
      "Requirement already satisfied: tenacity<9.0.0,>=8.1.0 in c:\\anaconda3\\envs\\questionsgen\\lib\\site-packages\\tenacity-8.3.0-py3.9.egg (from langchain-core<0.3,>=0.1.46->langchain_openai) (8.3.0)\n",
      "Requirement already satisfied: anyio<5,>=3.5.0 in c:\\anaconda3\\envs\\questionsgen\\lib\\site-packages\\anyio-4.3.0-py3.9.egg (from openai<2.0.0,>=1.24.0->langchain_openai) (4.3.0)\n",
      "Requirement already satisfied: distro<2,>=1.7.0 in c:\\anaconda3\\envs\\questionsgen\\lib\\site-packages\\distro-1.9.0-py3.9.egg (from openai<2.0.0,>=1.24.0->langchain_openai) (1.9.0)\n",
      "Requirement already satisfied: httpx<1,>=0.23.0 in c:\\anaconda3\\envs\\questionsgen\\lib\\site-packages\\httpx-0.27.0-py3.9.egg (from openai<2.0.0,>=1.24.0->langchain_openai) (0.27.0)\n",
      "Requirement already satisfied: sniffio in c:\\anaconda3\\envs\\questionsgen\\lib\\site-packages\\sniffio-1.3.1-py3.9.egg (from openai<2.0.0,>=1.24.0->langchain_openai) (1.3.1)\n",
      "Requirement already satisfied: tqdm>4 in c:\\anaconda3\\envs\\questionsgen\\lib\\site-packages\\tqdm-4.66.4-py3.9.egg (from openai<2.0.0,>=1.24.0->langchain_openai) (4.66.4)\n",
      "Requirement already satisfied: typing-extensions<5,>=4.7 in c:\\anaconda3\\envs\\questionsgen\\lib\\site-packages (from openai<2.0.0,>=1.24.0->langchain_openai) (4.11.0)\n",
      "Collecting regex>=2022.1.18 (from tiktoken<1,>=0.7->langchain_openai)\n",
      "  Using cached regex-2024.5.15-cp39-cp39-win_amd64.whl.metadata (41 kB)\n",
      "Requirement already satisfied: requests>=2.26.0 in c:\\anaconda3\\envs\\questionsgen\\lib\\site-packages\\requests-2.32.2-py3.9.egg (from tiktoken<1,>=0.7->langchain_openai) (2.32.2)\n",
      "Requirement already satisfied: idna>=2.8 in c:\\anaconda3\\envs\\questionsgen\\lib\\site-packages\\idna-3.7-py3.9.egg (from anyio<5,>=3.5.0->openai<2.0.0,>=1.24.0->langchain_openai) (3.7)\n",
      "Requirement already satisfied: exceptiongroup>=1.0.2 in c:\\anaconda3\\envs\\questionsgen\\lib\\site-packages (from anyio<5,>=3.5.0->openai<2.0.0,>=1.24.0->langchain_openai) (1.2.0)\n",
      "Requirement already satisfied: certifi in c:\\anaconda3\\envs\\questionsgen\\lib\\site-packages\\certifi-2024.2.2-py3.9.egg (from httpx<1,>=0.23.0->openai<2.0.0,>=1.24.0->langchain_openai) (2024.2.2)\n",
      "Requirement already satisfied: httpcore==1.* in c:\\anaconda3\\envs\\questionsgen\\lib\\site-packages\\httpcore-1.0.5-py3.9.egg (from httpx<1,>=0.23.0->openai<2.0.0,>=1.24.0->langchain_openai) (1.0.5)\n",
      "Requirement already satisfied: h11<0.15,>=0.13 in c:\\anaconda3\\envs\\questionsgen\\lib\\site-packages\\h11-0.14.0-py3.9.egg (from httpcore==1.*->httpx<1,>=0.23.0->openai<2.0.0,>=1.24.0->langchain_openai) (0.14.0)\n",
      "Requirement already satisfied: jsonpointer>=1.9 in c:\\anaconda3\\envs\\questionsgen\\lib\\site-packages\\jsonpointer-2.4-py3.9.egg (from jsonpatch<2.0,>=1.33->langchain-core<0.3,>=0.1.46->langchain_openai) (2.4)\n",
      "Requirement already satisfied: orjson<4.0.0,>=3.9.14 in c:\\anaconda3\\envs\\questionsgen\\lib\\site-packages\\orjson-3.10.3-py3.9-win-amd64.egg (from langsmith<0.2.0,>=0.1.0->langchain-core<0.3,>=0.1.46->langchain_openai) (3.10.3)\n",
      "Requirement already satisfied: annotated-types>=0.4.0 in c:\\anaconda3\\envs\\questionsgen\\lib\\site-packages\\annotated_types-0.7.0-py3.9.egg (from pydantic<3,>=1->langchain-core<0.3,>=0.1.46->langchain_openai) (0.7.0)\n",
      "Requirement already satisfied: pydantic-core==2.18.2 in c:\\anaconda3\\envs\\questionsgen\\lib\\site-packages\\pydantic_core-2.18.2-py3.9-win-amd64.egg (from pydantic<3,>=1->langchain-core<0.3,>=0.1.46->langchain_openai) (2.18.2)\n",
      "Requirement already satisfied: charset-normalizer<4,>=2 in c:\\anaconda3\\envs\\questionsgen\\lib\\site-packages\\charset_normalizer-3.3.2-py3.9-win-amd64.egg (from requests>=2.26.0->tiktoken<1,>=0.7->langchain_openai) (3.3.2)\n",
      "Requirement already satisfied: urllib3<3,>=1.21.1 in c:\\anaconda3\\envs\\questionsgen\\lib\\site-packages\\urllib3-2.2.1-py3.9.egg (from requests>=2.26.0->tiktoken<1,>=0.7->langchain_openai) (2.2.1)\n",
      "Requirement already satisfied: colorama in c:\\anaconda3\\envs\\questionsgen\\lib\\site-packages (from tqdm>4->openai<2.0.0,>=1.24.0->langchain_openai) (0.4.6)\n",
      "Using cached langchain_openai-0.1.7-py3-none-any.whl (34 kB)\n",
      "Using cached tiktoken-0.7.0-cp39-cp39-win_amd64.whl (798 kB)\n",
      "Using cached regex-2024.5.15-cp39-cp39-win_amd64.whl (269 kB)\n",
      "Installing collected packages: regex, tiktoken, langchain_openai\n",
      "Successfully installed langchain_openai-0.1.7 regex-2024.5.15 tiktoken-0.7.0\n",
      "Note: you may need to restart the kernel to use updated packages.\n"
     ]
    }
   ],
   "source": [
    "pip install langchain_openai"
   ]
  },
  {
   "cell_type": "code",
   "execution_count": 26,
   "metadata": {},
   "outputs": [],
   "source": [
    "from langchain_openai import ChatOpenAI"
   ]
  },
  {
   "cell_type": "code",
   "execution_count": 31,
   "metadata": {},
   "outputs": [],
   "source": [
    "from dotenv import load_dotenv\n",
    "load_dotenv()\n",
    "import os\n",
    "os.environ[\"OPENAI_API_KEY\"]=os.getenv(\"OPENAI_API_KEY\")"
   ]
  },
  {
   "cell_type": "code",
   "execution_count": 32,
   "metadata": {},
   "outputs": [],
   "source": [
    "llm = ChatOpenAI()"
   ]
  },
  {
   "cell_type": "code",
   "execution_count": null,
   "metadata": {},
   "outputs": [],
   "source": []
  }
 ],
 "metadata": {
  "kernelspec": {
   "display_name": "questionsgen",
   "language": "python",
   "name": "python3"
  },
  "language_info": {
   "codemirror_mode": {
    "name": "ipython",
    "version": 3
   },
   "file_extension": ".py",
   "mimetype": "text/x-python",
   "name": "python",
   "nbconvert_exporter": "python",
   "pygments_lexer": "ipython3",
   "version": "3.9.19"
  }
 },
 "nbformat": 4,
 "nbformat_minor": 2
}
